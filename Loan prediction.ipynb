{
 "cells": [
  {
   "cell_type": "code",
   "execution_count": 1,
   "metadata": {
    "collapsed": true
   },
   "outputs": [],
   "source": [
    "train = read.csv(\"train.txt\", sep = \",\", header = T, na.strings = c(\"\", NA))\n",
    "test = read.csv(\"test.txt\", sep = \",\", header = T, na.strings = c(\"\", NA))"
   ]
  },
  {
   "cell_type": "code",
   "execution_count": 2,
   "metadata": {
    "collapsed": false,
    "scrolled": true
   },
   "outputs": [
    {
     "data": {
      "text/plain": [
       "     Loan_ID       Gender    Married    Dependents        Education  \n",
       " LP001002:  1   Female:112   No  :213   0   :345   Graduate    :480  \n",
       " LP001003:  1   Male  :489   Yes :398   1   :102   Not Graduate:134  \n",
       " LP001005:  1   NA's  : 13   NA's:  3   2   :101                     \n",
       " LP001006:  1                           3+  : 51                     \n",
       " LP001008:  1                           NA's: 15                     \n",
       " LP001011:  1                                                        \n",
       " (Other) :608                                                        \n",
       " Self_Employed ApplicantIncome CoapplicantIncome   LoanAmount   \n",
       " No  :500      Min.   :  150   Min.   :    0     Min.   :  9.0  \n",
       " Yes : 82      1st Qu.: 2878   1st Qu.:    0     1st Qu.:100.0  \n",
       " NA's: 32      Median : 3812   Median : 1188     Median :128.0  \n",
       "               Mean   : 5403   Mean   : 1621     Mean   :146.4  \n",
       "               3rd Qu.: 5795   3rd Qu.: 2297     3rd Qu.:168.0  \n",
       "               Max.   :81000   Max.   :41667     Max.   :700.0  \n",
       "                                                 NA's   :22     \n",
       " Loan_Amount_Term Credit_History     Property_Area Loan_Status\n",
       " Min.   : 12      Min.   :0.0000   Rural    :179   N:192      \n",
       " 1st Qu.:360      1st Qu.:1.0000   Semiurban:233   Y:422      \n",
       " Median :360      Median :1.0000   Urban    :202              \n",
       " Mean   :342      Mean   :0.8422                              \n",
       " 3rd Qu.:360      3rd Qu.:1.0000                              \n",
       " Max.   :480      Max.   :1.0000                              \n",
       " NA's   :14       NA's   :50                                  "
      ]
     },
     "metadata": {},
     "output_type": "display_data"
    }
   ],
   "source": [
    "summary(train)"
   ]
  },
  {
   "cell_type": "code",
   "execution_count": 3,
   "metadata": {
    "collapsed": false
   },
   "outputs": [
    {
     "name": "stdout",
     "output_type": "stream",
     "text": [
      "'data.frame':\t614 obs. of  13 variables:\n",
      " $ Loan_ID          : Factor w/ 614 levels \"LP001002\",\"LP001003\",..: 1 2 3 4 5 6 7 8 9 10 ...\n",
      " $ Gender           : Factor w/ 2 levels \"Female\",\"Male\": 2 2 2 2 2 2 2 2 2 2 ...\n",
      " $ Married          : Factor w/ 2 levels \"No\",\"Yes\": 1 2 2 2 1 2 2 2 2 2 ...\n",
      " $ Dependents       : Factor w/ 4 levels \"0\",\"1\",\"2\",\"3+\": 1 2 1 1 1 3 1 4 3 2 ...\n",
      " $ Education        : Factor w/ 2 levels \"Graduate\",\"Not Graduate\": 1 1 1 2 1 1 2 1 1 1 ...\n",
      " $ Self_Employed    : Factor w/ 2 levels \"No\",\"Yes\": 1 1 2 1 1 2 1 1 1 1 ...\n",
      " $ ApplicantIncome  : int  5849 4583 3000 2583 6000 5417 2333 3036 4006 12841 ...\n",
      " $ CoapplicantIncome: num  0 1508 0 2358 0 ...\n",
      " $ LoanAmount       : int  NA 128 66 120 141 267 95 158 168 349 ...\n",
      " $ Loan_Amount_Term : int  360 360 360 360 360 360 360 360 360 360 ...\n",
      " $ Credit_History   : int  1 1 1 1 1 1 1 0 1 1 ...\n",
      " $ Property_Area    : Factor w/ 3 levels \"Rural\",\"Semiurban\",..: 3 1 3 3 3 3 3 2 3 2 ...\n",
      " $ Loan_Status      : Factor w/ 2 levels \"N\",\"Y\": 2 1 2 2 2 2 2 1 2 1 ...\n"
     ]
    }
   ],
   "source": [
    "str(train)"
   ]
  },
  {
   "cell_type": "code",
   "execution_count": 4,
   "metadata": {
    "collapsed": true
   },
   "outputs": [],
   "source": [
    "train$Credit_History = as.factor(train$Credit_History)"
   ]
  },
  {
   "cell_type": "code",
   "execution_count": 5,
   "metadata": {
    "collapsed": false,
    "scrolled": true
   },
   "outputs": [
    {
     "data": {
      "text/plain": [
       "     Loan_ID       Gender    Married   Dependents        Education  \n",
       " LP001015:  1   Female: 70   No :134   0   :200   Graduate    :283  \n",
       " LP001022:  1   Male  :286   Yes:233   1   : 58   Not Graduate: 84  \n",
       " LP001031:  1   NA's  : 11             2   : 59                     \n",
       " LP001035:  1                          3+  : 40                     \n",
       " LP001051:  1                          NA's: 10                     \n",
       " LP001054:  1                                                       \n",
       " (Other) :361                                                       \n",
       " Self_Employed ApplicantIncome CoapplicantIncome   LoanAmount   \n",
       " No  :307      Min.   :    0   Min.   :    0     Min.   : 28.0  \n",
       " Yes : 37      1st Qu.: 2864   1st Qu.:    0     1st Qu.:100.2  \n",
       " NA's: 23      Median : 3786   Median : 1025     Median :125.0  \n",
       "               Mean   : 4806   Mean   : 1570     Mean   :136.1  \n",
       "               3rd Qu.: 5060   3rd Qu.: 2430     3rd Qu.:158.0  \n",
       "               Max.   :72529   Max.   :24000     Max.   :550.0  \n",
       "                                                 NA's   :5      \n",
       " Loan_Amount_Term Credit_History     Property_Area\n",
       " Min.   :  6.0    Min.   :0.0000   Rural    :111  \n",
       " 1st Qu.:360.0    1st Qu.:1.0000   Semiurban:116  \n",
       " Median :360.0    Median :1.0000   Urban    :140  \n",
       " Mean   :342.5    Mean   :0.8254                  \n",
       " 3rd Qu.:360.0    3rd Qu.:1.0000                  \n",
       " Max.   :480.0    Max.   :1.0000                  \n",
       " NA's   :6        NA's   :29                      "
      ]
     },
     "metadata": {},
     "output_type": "display_data"
    }
   ],
   "source": [
    "summary(test)"
   ]
  },
  {
   "cell_type": "code",
   "execution_count": 6,
   "metadata": {
    "collapsed": false
   },
   "outputs": [
    {
     "name": "stdout",
     "output_type": "stream",
     "text": [
      "'data.frame':\t367 obs. of  12 variables:\n",
      " $ Loan_ID          : Factor w/ 367 levels \"LP001015\",\"LP001022\",..: 1 2 3 4 5 6 7 8 9 10 ...\n",
      " $ Gender           : Factor w/ 2 levels \"Female\",\"Male\": 2 2 2 2 2 2 1 2 2 2 ...\n",
      " $ Married          : Factor w/ 2 levels \"No\",\"Yes\": 2 2 2 2 1 2 1 2 2 1 ...\n",
      " $ Dependents       : Factor w/ 4 levels \"0\",\"1\",\"2\",\"3+\": 1 2 3 3 1 1 2 3 3 1 ...\n",
      " $ Education        : Factor w/ 2 levels \"Graduate\",\"Not Graduate\": 1 1 1 1 2 2 2 2 1 2 ...\n",
      " $ Self_Employed    : Factor w/ 2 levels \"No\",\"Yes\": 1 1 1 1 1 2 1 1 NA 1 ...\n",
      " $ ApplicantIncome  : int  5720 3076 5000 2340 3276 2165 2226 3881 13633 2400 ...\n",
      " $ CoapplicantIncome: int  0 1500 1800 2546 0 3422 0 0 0 2400 ...\n",
      " $ LoanAmount       : int  110 126 208 100 78 152 59 147 280 123 ...\n",
      " $ Loan_Amount_Term : int  360 360 360 360 360 360 360 360 240 360 ...\n",
      " $ Credit_History   : int  1 1 1 NA 1 1 1 0 1 1 ...\n",
      " $ Property_Area    : Factor w/ 3 levels \"Rural\",\"Semiurban\",..: 3 3 3 3 3 3 2 1 3 2 ...\n"
     ]
    }
   ],
   "source": [
    "str(test)"
   ]
  },
  {
   "cell_type": "code",
   "execution_count": 7,
   "metadata": {
    "collapsed": true
   },
   "outputs": [],
   "source": [
    "test$Credit_History = as.factor(test$Credit_History)"
   ]
  },
  {
   "cell_type": "code",
   "execution_count": 8,
   "metadata": {
    "collapsed": true
   },
   "outputs": [],
   "source": [
    "trainNew = train[,-13]"
   ]
  },
  {
   "cell_type": "code",
   "execution_count": 10,
   "metadata": {
    "collapsed": false
   },
   "outputs": [],
   "source": [
    "total = rbind(trainNew,test)\n",
    "total$Loan_ID = NULL"
   ]
  },
  {
   "cell_type": "code",
   "execution_count": 11,
   "metadata": {
    "collapsed": true
   },
   "outputs": [],
   "source": [
    "rm(trainNew)"
   ]
  },
  {
   "cell_type": "code",
   "execution_count": 12,
   "metadata": {
    "collapsed": false,
    "scrolled": true
   },
   "outputs": [
    {
     "data": {
      "text/plain": [
       "    Gender    Married    Dependents        Education   Self_Employed\n",
       " Female:182   No  :347   0   :545   Graduate    :763   No  :807     \n",
       " Male  :775   Yes :631   1   :160   Not Graduate:218   Yes :119     \n",
       " NA's  : 24   NA's:  3   2   :160                      NA's: 55     \n",
       "                         3+  : 91                                   \n",
       "                         NA's: 25                                   \n",
       "                                                                    \n",
       "                                                                    \n",
       " ApplicantIncome CoapplicantIncome   LoanAmount    Loan_Amount_Term\n",
       " Min.   :    0   Min.   :    0     Min.   :  9.0   Min.   :  6.0   \n",
       " 1st Qu.: 2875   1st Qu.:    0     1st Qu.:100.0   1st Qu.:360.0   \n",
       " Median : 3800   Median : 1110     Median :126.0   Median :360.0   \n",
       " Mean   : 5180   Mean   : 1602     Mean   :142.5   Mean   :342.2   \n",
       " 3rd Qu.: 5516   3rd Qu.: 2365     3rd Qu.:162.0   3rd Qu.:360.0   \n",
       " Max.   :81000   Max.   :41667     Max.   :700.0   Max.   :480.0   \n",
       "                                   NA's   :27      NA's   :20      \n",
       " Credit_History   Property_Area\n",
       " 0   :148       Rural    :290  \n",
       " 1   :754       Semiurban:349  \n",
       " NA's: 79       Urban    :342  \n",
       "                               \n",
       "                               \n",
       "                               \n",
       "                               "
      ]
     },
     "metadata": {},
     "output_type": "display_data"
    }
   ],
   "source": [
    "summary(total)"
   ]
  },
  {
   "cell_type": "code",
   "execution_count": 14,
   "metadata": {
    "collapsed": false
   },
   "outputs": [],
   "source": [
    "library(missForest, warn.conflicts = F)"
   ]
  },
  {
   "cell_type": "code",
   "execution_count": 15,
   "metadata": {
    "collapsed": false
   },
   "outputs": [
    {
     "name": "stdout",
     "output_type": "stream",
     "text": [
      "  missForest iteration 1 in progress...done!\n",
      "  missForest iteration 2 in progress...done!\n",
      "  missForest iteration 3 in progress...done!\n",
      "  missForest iteration 4 in progress...done!\n",
      "  missForest iteration 5 in progress...done!\n",
      "  missForest iteration 6 in progress...done!\n"
     ]
    }
   ],
   "source": [
    "## impute the missing values using missForest\n",
    "imputed = missForest(total)"
   ]
  },
  {
   "cell_type": "code",
   "execution_count": 16,
   "metadata": {
    "collapsed": false
   },
   "outputs": [
    {
     "data": {
      "text/plain": [
       "         Length Class      Mode   \n",
       "ximp     11     data.frame list   \n",
       "OOBerror  2     -none-     numeric"
      ]
     },
     "metadata": {},
     "output_type": "display_data"
    }
   ],
   "source": [
    "summary(imputed)"
   ]
  },
  {
   "cell_type": "code",
   "execution_count": 17,
   "metadata": {
    "collapsed": true
   },
   "outputs": [],
   "source": [
    "totalNew = imputed$ximp"
   ]
  },
  {
   "cell_type": "code",
   "execution_count": 18,
   "metadata": {
    "collapsed": false,
    "scrolled": true
   },
   "outputs": [
    {
     "data": {
      "text/plain": [
       "    Gender    Married   Dependents        Education   Self_Employed\n",
       " Female:189   No :349   0 :557     Graduate    :763   No :861      \n",
       " Male  :792   Yes:632   1 :161     Not Graduate:218   Yes:120      \n",
       "                        2 :168                                     \n",
       "                        3+: 95                                     \n",
       "                                                                   \n",
       "                                                                   \n",
       " ApplicantIncome CoapplicantIncome   LoanAmount    Loan_Amount_Term\n",
       " Min.   :    0   Min.   :    0     Min.   :  9.0   Min.   :  6.0   \n",
       " 1st Qu.: 2875   1st Qu.:    0     1st Qu.:100.0   1st Qu.:360.0   \n",
       " Median : 3800   Median : 1110     Median :126.3   Median :360.0   \n",
       " Mean   : 5180   Mean   : 1602     Mean   :142.7   Mean   :342.1   \n",
       " 3rd Qu.: 5516   3rd Qu.: 2365     3rd Qu.:162.0   3rd Qu.:360.0   \n",
       " Max.   :81000   Max.   :41667     Max.   :700.0   Max.   :480.0   \n",
       " Credit_History   Property_Area\n",
       " 0:155          Rural    :290  \n",
       " 1:826          Semiurban:349  \n",
       "                Urban    :342  \n",
       "                               \n",
       "                               \n",
       "                               "
      ]
     },
     "metadata": {},
     "output_type": "display_data"
    }
   ],
   "source": [
    "summary(totalNew)"
   ]
  },
  {
   "cell_type": "code",
   "execution_count": 19,
   "metadata": {
    "collapsed": true
   },
   "outputs": [],
   "source": [
    "trainNew = totalNew[1:614,]\n",
    "trainNew$Loan_Status = train$Loan_Status\n",
    "testNew = totalNew[615:981,]"
   ]
  },
  {
   "cell_type": "code",
   "execution_count": 20,
   "metadata": {
    "collapsed": false,
    "scrolled": true
   },
   "outputs": [
    {
     "data": {
      "text/plain": [
       "    Gender    Married   Dependents        Education   Self_Employed\n",
       " Female:115   No :215   0 :352     Graduate    :480   No :531      \n",
       " Male  :499   Yes:399   1 :103     Not Graduate:134   Yes: 83      \n",
       "                        2 :105                                     \n",
       "                        3+: 54                                     \n",
       "                                                                   \n",
       "                                                                   \n",
       " ApplicantIncome CoapplicantIncome   LoanAmount    Loan_Amount_Term\n",
       " Min.   :  150   Min.   :    0     Min.   :  9.0   Min.   : 12     \n",
       " 1st Qu.: 2878   1st Qu.:    0     1st Qu.:100.0   1st Qu.:360     \n",
       " Median : 3812   Median : 1188     Median :127.5   Median :360     \n",
       " Mean   : 5403   Mean   : 1621     Mean   :146.3   Mean   :342     \n",
       " 3rd Qu.: 5795   3rd Qu.: 2297     3rd Qu.:166.2   3rd Qu.:360     \n",
       " Max.   :81000   Max.   :41667     Max.   :700.0   Max.   :480     \n",
       " Credit_History   Property_Area Loan_Status\n",
       " 0: 94          Rural    :179   N:192      \n",
       " 1:520          Semiurban:233   Y:422      \n",
       "                Urban    :202              \n",
       "                                           \n",
       "                                           \n",
       "                                           "
      ]
     },
     "metadata": {},
     "output_type": "display_data"
    }
   ],
   "source": [
    "summary(trainNew)"
   ]
  },
  {
   "cell_type": "code",
   "execution_count": 21,
   "metadata": {
    "collapsed": false,
    "scrolled": true
   },
   "outputs": [
    {
     "data": {
      "text/plain": [
       "    Gender    Married   Dependents        Education   Self_Employed\n",
       " Female: 74   No :134   0 :205     Graduate    :283   No :330      \n",
       " Male  :293   Yes:233   1 : 58     Not Graduate: 84   Yes: 37      \n",
       "                        2 : 63                                     \n",
       "                        3+: 41                                     \n",
       "                                                                   \n",
       "                                                                   \n",
       " ApplicantIncome CoapplicantIncome   LoanAmount    Loan_Amount_Term\n",
       " Min.   :    0   Min.   :    0     Min.   : 28.0   Min.   :  6.0   \n",
       " 1st Qu.: 2864   1st Qu.:    0     1st Qu.:100.5   1st Qu.:360.0   \n",
       " Median : 3786   Median : 1025     Median :125.0   Median :360.0   \n",
       " Mean   : 4806   Mean   : 1570     Mean   :136.8   Mean   :342.4   \n",
       " 3rd Qu.: 5060   3rd Qu.: 2430     3rd Qu.:159.5   3rd Qu.:360.0   \n",
       " Max.   :72529   Max.   :24000     Max.   :550.0   Max.   :480.0   \n",
       " Credit_History   Property_Area\n",
       " 0: 61          Rural    :111  \n",
       " 1:306          Semiurban:116  \n",
       "                Urban    :140  \n",
       "                               \n",
       "                               \n",
       "                               "
      ]
     },
     "metadata": {},
     "output_type": "display_data"
    }
   ],
   "source": [
    "summary(testNew)"
   ]
  },
  {
   "cell_type": "code",
   "execution_count": 22,
   "metadata": {
    "collapsed": true
   },
   "outputs": [],
   "source": [
    "library(randomForest, warn.conflicts = F)"
   ]
  },
  {
   "cell_type": "code",
   "execution_count": 23,
   "metadata": {
    "collapsed": true
   },
   "outputs": [],
   "source": [
    "mod.rf = randomForest(Loan_Status~., data = trainNew, ntree = 200)"
   ]
  },
  {
   "cell_type": "code",
   "execution_count": 24,
   "metadata": {
    "collapsed": true
   },
   "outputs": [],
   "source": [
    "pred.rf = predict(mod.rf, newdata = testNew)"
   ]
  },
  {
   "cell_type": "code",
   "execution_count": 26,
   "metadata": {
    "collapsed": false
   },
   "outputs": [],
   "source": [
    "submit = data.frame(Loan_ID = test$Loan_ID, Loan_Status = pred.rf)"
   ]
  },
  {
   "cell_type": "code",
   "execution_count": 27,
   "metadata": {
    "collapsed": true
   },
   "outputs": [],
   "source": [
    "write.csv(submit, \"submission.csv\")"
   ]
  }
 ],
 "metadata": {
  "kernelspec": {
   "display_name": "R",
   "language": "R",
   "name": "ir"
  },
  "language_info": {
   "codemirror_mode": "r",
   "file_extension": ".r",
   "mimetype": "text/x-r-source",
   "name": "R",
   "pygments_lexer": "r",
   "version": "3.3.1"
  }
 },
 "nbformat": 4,
 "nbformat_minor": 2
}
